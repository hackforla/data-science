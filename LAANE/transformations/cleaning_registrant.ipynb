{
 "cells": [
  {
   "cell_type": "markdown",
   "metadata": {},
   "source": [
    "# Transforming registrant datasets\n",
    "## Author: Karina Lopez\n",
    "### Last updated: 07/22/2021"
   ]
  },
  {
   "cell_type": "markdown",
   "metadata": {},
   "source": [
    "# Things that need to be revised:\n",
    "- clean up registration numbers that are grouped and mistakenly input as different rows (e.g., 'HSR19-003524')\n",
    "- Leave nulls alone (e.g., HSR20-002175)\n",
    "- two addresses to same place: (e.g., HSR19-004463); two address entries for the same registrant ID number); maybe explain it if its the only one; if there are multiple ones, can explain multiple addresses can exist for one registrant number\n",
    "- remove mailing address\n",
    "- next week we can give Jon an update on progress"
   ]
  },
  {
   "cell_type": "code",
   "execution_count": 184,
   "metadata": {},
   "outputs": [],
   "source": [
    "import pandas as pd\n",
    "import glob\n",
    "import os\n",
    "import numpy as np\n",
    "from collections import OrderedDict\n",
    "\n",
    "BASE_DIR = \"/Users/karinalopez/Desktop/ds_projects/hack4la_airbnb/data/\""
   ]
  },
  {
   "cell_type": "markdown",
   "metadata": {},
   "source": [
    "# Functions"
   ]
  },
  {
   "cell_type": "code",
   "execution_count": 185,
   "metadata": {},
   "outputs": [],
   "source": [
    "def merge_dfs(df1, df2, col1, col2, fcol, first_bool):\n",
    "    \n",
    "    # merge each dataset together\n",
    "    df = pd.merge(df1, df2, how = 'outer', \n",
    "                         on = ['registration_num', 'address1', 'address2', 'registrant_name'],\n",
    "                         suffixes = ['1', '2'])\n",
    "    \n",
    "    return(merge_n_drop(df, col1, col2, fcol, first_bool))"
   ]
  },
  {
   "cell_type": "code",
   "execution_count": 186,
   "metadata": {},
   "outputs": [],
   "source": [
    "def merge_n_drop(df, col1, col2, fcol, first_bool):\n",
    "    \n",
    "    # combine platforms listed\n",
    "    cols = [col1, col2]\n",
    "    df[fcol] = df[cols].apply(lambda x: ' '.join(x.dropna()), axis = 1)\n",
    "\n",
    "    # remove duplicate platforms\n",
    "    df[fcol] = (df[fcol].str.split()\n",
    "                                  .apply(lambda x: OrderedDict.fromkeys(x).keys())\n",
    "                                  .str.join(','))\n",
    "    \n",
    "    if first_bool: # only when you want to drop the first two original columns\n",
    "        # drop unnecessary columns\n",
    "        df = df.drop([col1, col2], axis = 1)\n",
    "    \n",
    "    else:\n",
    "        # only drop the individual date column\n",
    "        df = df.drop([col2], axis = 1)\n",
    "\n",
    "    return(df)"
   ]
  },
  {
   "cell_type": "markdown",
   "metadata": {},
   "source": [
    "# Merge city of LA registerant datasets"
   ]
  },
  {
   "cell_type": "code",
   "execution_count": 187,
   "metadata": {},
   "outputs": [],
   "source": [
    "os.chdir(BASE_DIR + 'raw/City of LA data/')\n",
    "xls = pd.ExcelFile('HSO Registrants over time.xlsx')\n"
   ]
  },
  {
   "cell_type": "code",
   "execution_count": 188,
   "metadata": {},
   "outputs": [],
   "source": [
    "cityla_df1 = pd.read_excel(xls, '12-12-19')\n",
    "cityla_df2 = pd.read_excel(xls, '1-16-20')\n",
    "cityla_df3 = pd.read_excel(xls, '2-7-20')\n",
    "cityla_df4 = pd.read_excel(xls, '3-13-20')\n",
    "cityla_df5 = pd.read_excel(xls, '4-14-20')\n",
    "cityla_df6 = pd.read_excel(xls, '5-27-20')\n",
    "cityla_df7 = pd.read_excel(xls, '7-9-20')\n",
    "cityla_df8 = pd.read_excel(xls, '12-4-20')\n",
    "cityla_df9 = pd.read_excel(xls, '12-21-20')\n",
    "cityla_df10 = pd.read_excel(xls, '2-17-21')\n",
    "cityla_df11 = pd.read_excel(xls, '4-28-21')\n",
    "cityla_df12 = pd.read_excel(xls, '5-18-21 extended')\n"
   ]
  },
  {
   "cell_type": "markdown",
   "metadata": {},
   "source": [
    "# Checkpoint 1: Rename columns"
   ]
  },
  {
   "cell_type": "code",
   "execution_count": 189,
   "metadata": {},
   "outputs": [],
   "source": [
    "# create dictionary with all columns to be renamed\n",
    "col_dict = {'Registration Number': 'registration_num', \n",
    "     'Registration\\nNumber': 'registration_num',\n",
    "     'Date Generated': 'registration_date',\n",
    "     'Registration Date': 'registration_date', \n",
    "     'Registered Unit\\nNumber': 'address2',\n",
    "     'Registered Unit Number': 'address2', \n",
    "     'Property Unit Number': 'address2',\n",
    "     'Registered Adddress': 'address1',\n",
    "     'Registered Address': 'address1',\n",
    "     'Property Address': 'address1', \n",
    "     'Permit Holder Name 1': 'registrant_name',\n",
    "     'Permit Holder Name 1 ': 'registrant_name',\n",
    "     'Permit Holder Name': 'registrant_name', \n",
    "     'Permit Holder': 'registrant_name', \n",
    "     'Name of Host/Registrant': 'registrant_name', \n",
    "     'Registrant Name': 'registrant_name',\n",
    "     'Platforms Reported at Application': 'platforms_listed',\n",
    "     'Listings': 'platforms_listed',\n",
    "     'Registered Platform(s)': 'platforms_listed',\n",
    "     'Platforms': 'platforms_listed',\n",
    "     'Platform': 'platforms_listed'}\n"
   ]
  },
  {
   "cell_type": "code",
   "execution_count": 190,
   "metadata": {},
   "outputs": [],
   "source": [
    "# rename columns for each dataframe if the column name is listed in the dictionary\n",
    "cityla_df1.rename(columns = {k: v for k, v in col_dict.items() if v not in cityla_df1}, inplace = True)\n",
    "cityla_df2.rename(columns = {k: v for k, v in col_dict.items() if v not in cityla_df2}, inplace = True)\n",
    "cityla_df3.rename(columns = {k: v for k, v in col_dict.items() if v not in cityla_df3}, inplace = True)\n",
    "cityla_df4.rename(columns = {k: v for k, v in col_dict.items() if v not in cityla_df4}, inplace = True)\n",
    "cityla_df5.rename(columns = {k: v for k, v in col_dict.items() if v not in cityla_df5}, inplace = True)\n",
    "cityla_df6.rename(columns = {k: v for k, v in col_dict.items() if v not in cityla_df6}, inplace = True)\n",
    "cityla_df7.rename(columns = {k: v for k, v in col_dict.items() if v not in cityla_df7}, inplace = True)\n",
    "cityla_df8.rename(columns = {k: v for k, v in col_dict.items() if v not in cityla_df8}, inplace = True)\n",
    "cityla_df9.rename(columns = {k: v for k, v in col_dict.items() if v not in cityla_df9}, inplace = True)\n",
    "cityla_df10.rename(columns = {k: v for k, v in col_dict.items() if v not in cityla_df10}, inplace = True)\n",
    "cityla_df11.rename(columns = {k: v for k, v in col_dict.items() if v not in cityla_df11}, inplace = True)\n",
    "cityla_df12.rename(columns = {k: v for k, v in col_dict.items() if v not in cityla_df12}, inplace = True)\n"
   ]
  },
  {
   "cell_type": "code",
   "execution_count": 191,
   "metadata": {},
   "outputs": [],
   "source": [
    "# change dates to proper format: YYYY-MM-DD\n",
    "cityla_df9['registration_date'] = pd.to_datetime(cityla_df9['registration_date'], format = '%y-%m-%d %h:%m:%s').dt.strftime('%Y-%m-%d')"
   ]
  },
  {
   "cell_type": "code",
   "execution_count": 192,
   "metadata": {},
   "outputs": [
    {
     "data": {
      "text/plain": [
       "registration_num     False\n",
       "address1             False\n",
       "address2              True\n",
       "registrant_name      False\n",
       "platforms_listed      True\n",
       "registration_date    False\n",
       "dtype: bool"
      ]
     },
     "execution_count": 192,
     "metadata": {},
     "output_type": "execute_result"
    }
   ],
   "source": [
    "cityla_df9.isna().any()"
   ]
  },
  {
   "cell_type": "code",
   "execution_count": 193,
   "metadata": {},
   "outputs": [],
   "source": [
    "# convert everything to uppercase letters\n",
    "cityla_df1 = cityla_df1.apply(lambda x: x.astype(str).str.upper()) \n",
    "cityla_df2 = cityla_df2.apply(lambda x: x.astype(str).str.upper())\n",
    "cityla_df3 = cityla_df3.apply(lambda x: x.astype(str).str.upper())\n",
    "cityla_df4 = cityla_df4.apply(lambda x: x.astype(str).str.upper())\n",
    "cityla_df5 = cityla_df5.apply(lambda x: x.astype(str).str.upper())\n",
    "cityla_df6 = cityla_df6.apply(lambda x: x.astype(str).str.upper())\n",
    "cityla_df7 = cityla_df7.apply(lambda x: x.astype(str).str.upper())\n",
    "cityla_df8 = cityla_df8.apply(lambda x: x.astype(str).str.upper())\n",
    "cityla_df9 = cityla_df9.apply(lambda x: x.astype(str).str.upper())\n",
    "cityla_df10 = cityla_df10.apply(lambda x: x.astype(str).str.upper())\n",
    "cityla_df11 = cityla_df11.apply(lambda x: x.astype(str).str.upper())\n",
    "cityla_df12 = cityla_df12.apply(lambda x: x.astype(str).str.upper())"
   ]
  },
  {
   "cell_type": "code",
   "execution_count": 194,
   "metadata": {},
   "outputs": [],
   "source": [
    "cityla_df1 = cityla_df1.replace('-', np.nan)\n",
    "cityla_df2 = cityla_df2.replace('-', np.nan)\n",
    "cityla_df3 = cityla_df3.replace('-', np.nan)\n",
    "cityla_df4 = cityla_df4.replace('-', np.nan)\n",
    "cityla_df5 = cityla_df5.replace('-', np.nan)\n",
    "cityla_df6 = cityla_df6.replace('-', np.nan)\n",
    "cityla_df7 = cityla_df7.replace('-', np.nan)\n",
    "cityla_df8 = cityla_df8.replace('-', np.nan)\n",
    "cityla_df9 = cityla_df9.replace('-', np.nan)\n",
    "cityla_df10 = cityla_df10.replace('-', np.nan)\n",
    "cityla_df11 = cityla_df11.replace('-', np.nan)\n",
    "cityla_df12 = cityla_df12.replace('-', np.nan)\n",
    "\n",
    "cityla_df1['address2'] = cityla_df1['address2'].replace('NAN', np.nan)\n",
    "cityla_df2['address2'] = cityla_df2['address2'].replace('NAN', np.nan)\n",
    "cityla_df3['address2'] = cityla_df3['address2'].replace('NAN', np.nan)\n",
    "cityla_df4['address2'] = cityla_df4['address2'].replace('NAN', np.nan)\n",
    "cityla_df5['address2'] = cityla_df5['address2'].replace('NAN', np.nan)\n",
    "cityla_df6['address2'] = cityla_df6['address2'].replace('NAN', np.nan)\n",
    "cityla_df7['address2'] = cityla_df7['address2'].replace('NAN', np.nan)\n",
    "cityla_df8['address2'] = cityla_df8['address2'].replace('NAN', np.nan)\n",
    "cityla_df9['address2'] = cityla_df9['address2'].replace('NAN', np.nan)\n",
    "cityla_df10['address2'] = cityla_df10['address2'].replace('NAN', np.nan)\n",
    "cityla_df11['address2'] = cityla_df11['address2'].replace('NAN', np.nan)\n",
    "cityla_df12['address2'] = cityla_df12['address2'].replace('NAN', np.nan)\n",
    "\n",
    "cityla_df1['platforms_listed'] = cityla_df1['platforms_listed'].replace('NAN', np.nan)\n",
    "cityla_df2['platforms_listed'] = cityla_df2['platforms_listed'].replace('NAN', np.nan)\n",
    "cityla_df3['platforms_listed'] = cityla_df3['platforms_listed'].replace('NAN', np.nan)\n",
    "cityla_df4['platforms_listed'] = cityla_df4['platforms_listed'].replace('NAN', np.nan)\n",
    "cityla_df5['platforms_listed'] = cityla_df5['platforms_listed'].replace('NAN', np.nan)\n",
    "cityla_df6['platforms_listed'] = cityla_df6['platforms_listed'].replace('NAN', np.nan)\n",
    "cityla_df7['platforms_listed'] = cityla_df7['platforms_listed'].replace('NAN', np.nan)\n",
    "cityla_df8['platforms_listed'] = cityla_df8['platforms_listed'].replace('NAN', np.nan)\n",
    "cityla_df9['platforms_listed'] = cityla_df9['platforms_listed'].replace('NAN', np.nan)\n",
    "cityla_df10['platforms_listed'] = cityla_df10['platforms_listed'].replace('NAN', np.nan)\n",
    "cityla_df11['platforms_listed'] = cityla_df11['platforms_listed'].replace('NAN', np.nan)\n",
    "cityla_df12['platforms_listed'] = cityla_df12['platforms_listed'].replace('NAN', np.nan)"
   ]
  },
  {
   "cell_type": "code",
   "execution_count": 195,
   "metadata": {},
   "outputs": [],
   "source": [
    "# create new column containing date of registration for each dataset\n",
    "date1 = '12-12-19'\n",
    "date2 = '1-16-20'\n",
    "date3 = '2-7-20'\n",
    "date4 = '3-13-20'\n",
    "date5 = '4-14-20'\n",
    "date6 = '5-27-20'\n",
    "date7 = '7-9-20'\n",
    "date8 = '12-4-20'\n",
    "date9 = '12-21-20'\n",
    "date10 = '2-17-21'\n",
    "date11 = '4-28-21'\n",
    "date12 = '5-18-21'\n",
    "\n",
    "cityla_df1['date1'] = date1\n",
    "cityla_df2['date2'] = date2\n",
    "cityla_df3['date3'] = date3\n",
    "cityla_df4['date4'] = date4\n",
    "cityla_df5['date5'] = date5\n",
    "cityla_df6['date6'] = date6\n",
    "cityla_df7['date7'] = date7\n",
    "cityla_df8['date8'] = date8\n",
    "cityla_df9['date9'] = date9\n",
    "cityla_df10['date10'] = date10\n",
    "cityla_df11['date11'] = date11\n",
    "cityla_df12['date12'] = date12\n"
   ]
  },
  {
   "cell_type": "code",
   "execution_count": 256,
   "metadata": {},
   "outputs": [],
   "source": [
    "# df 1 + 2\n",
    "cityla_df = merge_dfs(cityla_df1, cityla_df2, 'platforms_listed1', 'platforms_listed2', 'platforms_listed', True)\n",
    "cityla_df = merge_n_drop(cityla_df, 'date1', 'date2', 'date', True)\n",
    "\n",
    "# df 3\n",
    "cityla_df = merge_dfs(cityla_df, cityla_df3, 'platforms_listed1', 'platforms_listed2', 'platforms_listed', True)\n",
    "cityla_df = merge_n_drop(cityla_df, 'date', 'date3', 'date', False) \n",
    "\n",
    "# df 4\n",
    "cityla_df = merge_dfs(cityla_df, cityla_df4, 'platforms_listed1', 'platforms_listed2', 'platforms_listed', True)\n",
    "cityla_df = merge_n_drop(cityla_df, 'date', 'date4', 'date', False) \n",
    "\n",
    "# df 5\n",
    "cityla_df = merge_dfs(cityla_df, cityla_df5, 'platforms_listed1', 'platforms_listed2', 'platforms_listed', True)\n",
    "cityla_df = merge_n_drop(cityla_df, 'date', 'date5', 'date', False) \n",
    "\n",
    "# df 6\n",
    "cityla_df = merge_dfs(cityla_df, cityla_df6, 'platforms_listed1', 'platforms_listed2', 'platforms_listed', True)\n",
    "cityla_df = merge_n_drop(cityla_df, 'date', 'date6', 'date', False) \n",
    "\n",
    "# df 7\n",
    "cityla_df = merge_dfs(cityla_df, cityla_df7, 'platforms_listed1', 'platforms_listed2', 'platforms_listed', True)\n",
    "cityla_df = merge_n_drop(cityla_df, 'date', 'date7', 'date', False) \n",
    "\n",
    "# df 8\n",
    "cityla_df = merge_dfs(cityla_df, cityla_df8, 'platforms_listed1', 'platforms_listed2', 'platforms_listed', True)\n",
    "cityla_df = merge_n_drop(cityla_df, 'date', 'date8', 'date', False) \n",
    "\n",
    "# df 9\n",
    "cityla_df = merge_dfs(cityla_df, cityla_df9, 'platforms_listed1', 'platforms_listed2', 'platforms_listed', True)\n",
    "cityla_df = merge_n_drop(cityla_df, 'date', 'date9', 'date', False) \n",
    "\n",
    "# df 10\n",
    "cityla_df = merge_dfs(cityla_df, cityla_df10, 'platforms_listed1', 'platforms_listed2', 'platforms_listed', True)\n",
    "cityla_df = merge_n_drop(cityla_df, 'date', 'date10', 'date', False) \n",
    "\n",
    "# df 11\n",
    "cityla_df = merge_dfs(cityla_df, cityla_df11, 'platforms_listed1', 'platforms_listed2', 'platforms_listed', True)\n",
    "cityla_df = merge_n_drop(cityla_df, 'date', 'date11', 'date', False) \n",
    "\n",
    "# df 12\n",
    "cityla_df = merge_dfs(cityla_df, cityla_df12, 'platforms_listed1', 'platforms_listed2', 'platforms_listed', True)\n",
    "cityla_df = merge_n_drop(cityla_df, 'date', 'date12', 'date', False) \n"
   ]
  },
  {
   "cell_type": "code",
   "execution_count": 261,
   "metadata": {},
   "outputs": [],
   "source": [
    "# remove duplicate platform listings\n",
    "cityla_df['platforms_listed'] = cityla_df['platforms_listed'].apply(lambda x: list(set(x)))\n",
    "cityla_df['platforms_listed'] = cityla_df['platforms_listed'].apply(lambda x: [y for y in x if y])\n",
    "\n",
    "# remove empty lists\n",
    "cityla_df['platforms_listed'] = cityla_df['platforms_listed'].apply(lambda x: np.nan if len(x) == 0 else x)\n",
    "\n"
   ]
  },
  {
   "cell_type": "code",
   "execution_count": null,
   "metadata": {},
   "outputs": [],
   "source": [
    "# combine registration dates to single column\n",
    "cityla_df = merge_n_drop(cityla_df, 'registration_date1', 'registration_date2', 'registration_date', True)\n",
    "\n"
   ]
  },
  {
   "cell_type": "code",
   "execution_count": 276,
   "metadata": {},
   "outputs": [
    {
     "data": {
      "text/html": [
       "<div>\n",
       "<style scoped>\n",
       "    .dataframe tbody tr th:only-of-type {\n",
       "        vertical-align: middle;\n",
       "    }\n",
       "\n",
       "    .dataframe tbody tr th {\n",
       "        vertical-align: top;\n",
       "    }\n",
       "\n",
       "    .dataframe thead th {\n",
       "        text-align: right;\n",
       "    }\n",
       "</style>\n",
       "<table border=\"1\" class=\"dataframe\">\n",
       "  <thead>\n",
       "    <tr style=\"text-align: right;\">\n",
       "      <th></th>\n",
       "      <th>registration_num</th>\n",
       "      <th>address1</th>\n",
       "      <th>address2</th>\n",
       "      <th>registrant_name</th>\n",
       "      <th>generated_date</th>\n",
       "      <th>platforms_listed</th>\n",
       "      <th>registration_date</th>\n",
       "    </tr>\n",
       "  </thead>\n",
       "  <tbody>\n",
       "    <tr>\n",
       "      <th>0</th>\n",
       "      <td>HSR19-000002</td>\n",
       "      <td>56 OZONE AVE, VENICE, CA 90291, USA</td>\n",
       "      <td>NaN</td>\n",
       "      <td>CHANTEL HUNTERMAH</td>\n",
       "      <td>12-12-19,1-16-20,2-7-20,3-13-20,4-14-20,5-27-2...</td>\n",
       "      <td>[AIRBNB, VRBO]</td>\n",
       "      <td>2020-09-15,2021-05-18</td>\n",
       "    </tr>\n",
       "    <tr>\n",
       "      <th>1</th>\n",
       "      <td>HSR19-000003</td>\n",
       "      <td>11822 GOSHEN AVE, LOS ANGELES, CA 90049, USA</td>\n",
       "      <td>102</td>\n",
       "      <td>ELLIOT RUTSTEIN</td>\n",
       "      <td>12-12-19</td>\n",
       "      <td>[AIRBNB]</td>\n",
       "      <td></td>\n",
       "    </tr>\n",
       "    <tr>\n",
       "      <th>2</th>\n",
       "      <td>HSR19-000004</td>\n",
       "      <td>6703 ST CLAIR AVE, NORTH HOLLYWOOD, CA 91606, ...</td>\n",
       "      <td>NaN</td>\n",
       "      <td>RAJESH GARG</td>\n",
       "      <td>12-12-19</td>\n",
       "      <td>[AIRBNB]</td>\n",
       "      <td></td>\n",
       "    </tr>\n",
       "    <tr>\n",
       "      <th>3</th>\n",
       "      <td>HSR19-000005</td>\n",
       "      <td>2192 BEECH KNOLL RD, LOS ANGELES, CA 90046, USA\\t</td>\n",
       "      <td>NaN</td>\n",
       "      <td>ERIC ROSS ALLEN\\t</td>\n",
       "      <td>12-12-19</td>\n",
       "      <td>[AIRBNB]</td>\n",
       "      <td></td>\n",
       "    </tr>\n",
       "    <tr>\n",
       "      <th>4</th>\n",
       "      <td>HSR19-000007</td>\n",
       "      <td>752 W ATHENS BLVD, LOS ANGELES, CA 90044, USA</td>\n",
       "      <td>NaN</td>\n",
       "      <td>RODOLFO LARA</td>\n",
       "      <td>12-12-19</td>\n",
       "      <td>NaN</td>\n",
       "      <td></td>\n",
       "    </tr>\n",
       "  </tbody>\n",
       "</table>\n",
       "</div>"
      ],
      "text/plain": [
       "  registration_num                                           address1  \\\n",
       "0     HSR19-000002                56 OZONE AVE, VENICE, CA 90291, USA   \n",
       "1     HSR19-000003      11822 GOSHEN AVE, LOS ANGELES, CA 90049, USA    \n",
       "2     HSR19-000004  6703 ST CLAIR AVE, NORTH HOLLYWOOD, CA 91606, ...   \n",
       "3     HSR19-000005  2192 BEECH KNOLL RD, LOS ANGELES, CA 90046, USA\\t   \n",
       "4     HSR19-000007     752 W ATHENS BLVD, LOS ANGELES, CA 90044, USA    \n",
       "\n",
       "  address2    registrant_name  \\\n",
       "0      NaN  CHANTEL HUNTERMAH   \n",
       "1      102    ELLIOT RUTSTEIN   \n",
       "2      NaN        RAJESH GARG   \n",
       "3      NaN  ERIC ROSS ALLEN\\t   \n",
       "4      NaN      RODOLFO LARA    \n",
       "\n",
       "                                      generated_date platforms_listed  \\\n",
       "0  12-12-19,1-16-20,2-7-20,3-13-20,4-14-20,5-27-2...   [AIRBNB, VRBO]   \n",
       "1                                           12-12-19         [AIRBNB]   \n",
       "2                                           12-12-19         [AIRBNB]   \n",
       "3                                           12-12-19         [AIRBNB]   \n",
       "4                                           12-12-19              NaN   \n",
       "\n",
       "       registration_date  \n",
       "0  2020-09-15,2021-05-18  \n",
       "1                         \n",
       "2                         \n",
       "3                         \n",
       "4                         "
      ]
     },
     "execution_count": 276,
     "metadata": {},
     "output_type": "execute_result"
    }
   ],
   "source": [
    "# rename date column # needs to be revised to include when registrants entered/left these datasets\n",
    "cityla_df.rename(columns = {'date': 'generated_date'}, inplace = True)\n",
    "cityla_df.head()\n"
   ]
  },
  {
   "cell_type": "code",
   "execution_count": 270,
   "metadata": {},
   "outputs": [
    {
     "name": "stdout",
     "output_type": "stream",
     "text": [
      "(4684, 6)\n",
      "(1116, 6)\n",
      "(1620, 6)\n",
      "(2434, 6)\n",
      "(3358, 6)\n",
      "(3795, 6)\n",
      "(3977, 6)\n",
      "(4021, 6)\n",
      "(4033, 7)\n",
      "(3439, 6)\n",
      "(2949, 6)\n",
      "(820, 7)\n",
      "(7186, 8)\n"
     ]
    }
   ],
   "source": [
    "print(cityla_df1.shape)\n",
    "print(cityla_df2.shape)\n",
    "print(cityla_df3.shape)\n",
    "print(cityla_df4.shape)\n",
    "print(cityla_df5.shape)\n",
    "print(cityla_df6.shape)\n",
    "print(cityla_df7.shape)\n",
    "print(cityla_df8.shape)\n",
    "print(cityla_df9.shape)\n",
    "print(cityla_df10.shape)\n",
    "print(cityla_df11.shape)\n",
    "print(cityla_df12.shape)\n",
    "print(cityla_df.shape)"
   ]
  },
  {
   "cell_type": "code",
   "execution_count": 278,
   "metadata": {},
   "outputs": [],
   "source": [
    "#os.chdir(BASE_DIR + 'intermediate/')\n",
    "#cityla_df.to_csv('cityla_checkpoint_1.csv', index = False)"
   ]
  },
  {
   "cell_type": "markdown",
   "metadata": {},
   "source": [
    "# Checkpoint 2: Clean up addresses and create new columns"
   ]
  },
  {
   "cell_type": "code",
   "execution_count": 619,
   "metadata": {},
   "outputs": [],
   "source": [
    "os.chdir(BASE_DIR + 'intermediate/')\n",
    "cityla_df = pd.read_csv('cityla_checkpoint_1.csv')"
   ]
  },
  {
   "cell_type": "code",
   "execution_count": 620,
   "metadata": {},
   "outputs": [],
   "source": [
    "# remove unnecessary characters\n",
    "cityla_df['address1'] = cityla_df['address1'].str.replace('\\t','')\n",
    "cityla_df['address1'] = cityla_df['address1'].str.replace('-','')\n"
   ]
  },
  {
   "cell_type": "code",
   "execution_count": 621,
   "metadata": {},
   "outputs": [],
   "source": [
    "cityla_df['registrant_name'] = cityla_df['registrant_name'].str.replace('\\t','')\n",
    "cityla_df['registrant_name'] = cityla_df['registrant_name'].str.replace('-','')\n"
   ]
  },
  {
   "cell_type": "code",
   "execution_count": 622,
   "metadata": {},
   "outputs": [],
   "source": [
    "# remove unnecessary characters\n",
    "cityla_df['address1'] = cityla_df['address1'].apply(lambda x: x.split(', usa')[0])\n"
   ]
  },
  {
   "cell_type": "code",
   "execution_count": 623,
   "metadata": {},
   "outputs": [],
   "source": [
    "# remove white space at the beginning and end of a string\n",
    "cityla_df['address1'] = cityla_df['address1'].str.strip()\n",
    "cityla_df['registrant_name'] = cityla_df['registrant_name'].str.strip()\n"
   ]
  },
  {
   "cell_type": "code",
   "execution_count": null,
   "metadata": {},
   "outputs": [],
   "source": []
  },
  {
   "cell_type": "code",
   "execution_count": 624,
   "metadata": {},
   "outputs": [],
   "source": [
    "# fix these addresses manually\n",
    "address_dict = {\n",
    "    'los1118 valencia street angeles, ca 90015': '1118 valencia street, los angeles, ca 90015, usa',\n",
    "    '1506 n mccollum place unit a los angeles, ca 90026': '1506 n mccollum place, los angeles, ca 90026, usa',\n",
    "    '4710 west maplewood ave los angeles, ca 90004': '4710 west maplewood ave, los angeles, ca 90004, usa',\n",
    "    '639 s spring st, los angeles, ca 90014, unit 11a': '639 s spring st, los angeles, ca 90014, usa',\n",
    "    '4832 riverton ave, north hollywood, 91601': '4832 riverton ave, north hollywood, ca 91601, usa',\n",
    "    \n",
    "    'los1118 valencia street angeles, ca 90015':   '1118 valencia street, los angeles, ca 90015, usa',\n",
    "    '1118 valencia street angeles, ca 90015':      '1118 valencia street, los angeles, ca 90015, usa',\n",
    "    '1118 valencia street angeles, ca 90015, usa': '1118 valencia street, los angeles, ca 90015, usa',\n",
    "    '1118 valencia street angeles, ca 90015':      '1118 valencia street, los angeles, ca 90015, usa',\n",
    "    'los1118 valencia street angeles, ca 90015, usa': '1118 valencia street, los angeles, ca 90015, usa',\n",
    "    \n",
    "    '14333 van nuys blvd.  ca 91331, usa': '14333 van nuys blvd, arleta, ca 91331, usa',\n",
    "    '2765 1/2 west 12th street':'2765 w 12th St, los angeles, ca 90006, usa',\n",
    "    '10834 hortense st, #1 north hollywood, ca 91602, usa':'10834 hortense st #1, north hollywood, ca 91602, usa',\n",
    "                \n",
    "                'w magnolia blvd, sherman oaks, ca, usa':'13260 w magnolia blvd, sherman oaks, ca 91411, usa',\n",
    "                '13260 w magnolia blvd, sherman oaks, ca, usa':'13260 w magnolia blvd, sherman oaks, ca 91423, usa',\n",
    "                \n",
    "                '14333 van nuys blvd. ca 91331, usa':'14333 van nuys blvd, arleta, ca 91331, usa',\n",
    "                '830 e kensington rd los angeles, ca 90026, usa':'830 e kensington rd, los angeles, ca 90026, usa',\n",
    "                'los1118 valencia street angeles, ca 90015, usa': '1118 valencia st, los angeles, ca 90015, usa',\n",
    "                '518 e 21st street los angeles, ca 90011, usa':'518 e 21st st, los angeles, ca 90011, usa',\n",
    "                '707 brooks ave venice, ca 90291, usa':'707 brooks ave, venice, ca 90291, usa',\n",
    "                '1255 federal ave, apt 103 los angeles, ca 90025, usa':'1255 federal ave apt 103, los angeles, ca 90025, usa',\n",
    "                '344 indiana ave, #b venice, ca 90291, usa':'344 indiana ave #b, venice, ca 90291, usa',\n",
    "                '1506 n mccollum place unit a los angeles, ca 90026, usa':'1506 n mccollum place unit a, los angeles, ca 90026, usa',\n",
    "                '7641 tujunga ave north hollywood, ca 91605, usa': '7641 tujunga ave, north hollywood, ca 91605, usa',\n",
    "                '6828 van nuys blvd, n. sherman oaks, ca 91405, usa': '6828 van nuys blvd, sherman oaks, ca 91405, usa', \n",
    "                '2763 1/2 w 12th st los angeles, ca 90006, usa': '2763 1/2 w 12th st, los angeles, ca 90006, usa', \n",
    "                '1474 ridge way, los angeles b, ca 90026, usa': '1474 ridge way b, los angeles, ca 90026, usa', \n",
    "                '6650 leland way, unit c los angeles, ca 90028, usa': '6650 leland way unit c, los angeles, ca 90028, usa', \n",
    "                '4712 west maplewood ave los angeles, ca 90004, usa': '4712 west maplewood ave, los angeles, ca 90004, usa', \n",
    "                '732 huntley dr, 1 west hollywood, ca 90069, usa': '732 huntley dr 1, west hollywood, ca 90069, usa', \n",
    "                '2765 1/2 west 12th street, usa': '2765 1/2 west 12th st, los angeles, ca 90006, usa', \n",
    "                'los1118 valencia street angeles, ca 90015, usa': '1118 valencia st, los angeles, ca 90015, usa', \n",
    "                '4710 west maplewood ave los angeles, ca 90004, usa': '4710 west maplewood ave, los angeles, ca 90004, usa', \n",
    "                '14333 van nuys blvd. ca 91331, usa': '14333 van nuys blvd, arleta, ca 91331, usa', \n",
    "                '1710 n. fuller ave, ca 90046, usa': '1710 n fuller ave, los angeles, ca 90046, usa', \n",
    "                '14618 gilmore st, van nuys, 10, ca 91411, usa': '14618 gilmore st 10, van nuys, ca 91411, usa',\n",
    "                'los1118 valencia street angeles, ca 90015, usa': '1118 valencia street, los angeles, ca 90015, usa',\n",
    "                '1019 s catalina ct, unit 508 los angeles, ca 90006, usa': '1019 s catalina ct unit 508, los angeles, ca 90006, usa',\n",
    "                '1118 valencia street angeles, ca 90015': '1118 valencia street, los angeles, ca 90015'}\n",
    "\n"
   ]
  },
  {
   "cell_type": "code",
   "execution_count": 625,
   "metadata": {},
   "outputs": [],
   "source": [
    "# convert everything to lowercase temporarily\n",
    "cityla_df['address1'] = cityla_df['address1'].apply(lambda x: x.lower())\n"
   ]
  },
  {
   "cell_type": "code",
   "execution_count": null,
   "metadata": {},
   "outputs": [],
   "source": []
  },
  {
   "cell_type": "code",
   "execution_count": 626,
   "metadata": {},
   "outputs": [],
   "source": [
    "# map revised addresses\n",
    "cityla_df['address1'] = cityla_df['address1'].replace(address_dict)\n",
    "cityla_df['address1'] = cityla_df['address1'].apply(lambda x: x.upper())\n"
   ]
  },
  {
   "cell_type": "code",
   "execution_count": null,
   "metadata": {},
   "outputs": [],
   "source": []
  },
  {
   "cell_type": "code",
   "execution_count": null,
   "metadata": {},
   "outputs": [],
   "source": [
    "\n"
   ]
  },
  {
   "cell_type": "code",
   "execution_count": 627,
   "metadata": {},
   "outputs": [],
   "source": [
    "# remove country info from addresses\n",
    "remove_address_char = [', UNITED STATES', ', USA', ', US', ' USA']\n",
    "cityla_df['address1'] = cityla_df['address1'].str.replace('|'.join(remove_address_char), '')\n"
   ]
  },
  {
   "cell_type": "code",
   "execution_count": 628,
   "metadata": {},
   "outputs": [],
   "source": [
    "# create city column\n",
    "\n",
    "# remove last 10 characters\n",
    "cityla_df['city'] = cityla_df['address1'].map(lambda x: str(x)[:-10])\n",
    "\n",
    "# split string by delimeter (,)\n",
    "cityla_df['city'] = cityla_df['city'].str.split(',')\n",
    "\n",
    "# create city and street address columns\n",
    "cityla_df.loc[:, 'city'] = cityla_df['city'].map(lambda x: x[-1])\n",
    "\n",
    "# remove white space \n",
    "cityla_df['city'] = cityla_df['city'].str.strip()\n"
   ]
  },
  {
   "cell_type": "code",
   "execution_count": null,
   "metadata": {},
   "outputs": [],
   "source": []
  },
  {
   "cell_type": "code",
   "execution_count": null,
   "metadata": {},
   "outputs": [],
   "source": []
  },
  {
   "cell_type": "code",
   "execution_count": 629,
   "metadata": {},
   "outputs": [],
   "source": [
    "cityla_df['city'] = cityla_df['city'].apply(lambda x: x.lower())\n",
    "cityla_df['address1'] = cityla_df['address1'].apply(lambda x: x.lower())\n",
    "#cityla_df['city'] = cityla_df['city'].apply(lambda x: x.upper())"
   ]
  },
  {
   "cell_type": "code",
   "execution_count": 631,
   "metadata": {},
   "outputs": [
    {
     "data": {
      "text/html": [
       "<div>\n",
       "<style scoped>\n",
       "    .dataframe tbody tr th:only-of-type {\n",
       "        vertical-align: middle;\n",
       "    }\n",
       "\n",
       "    .dataframe tbody tr th {\n",
       "        vertical-align: top;\n",
       "    }\n",
       "\n",
       "    .dataframe thead th {\n",
       "        text-align: right;\n",
       "    }\n",
       "</style>\n",
       "<table border=\"1\" class=\"dataframe\">\n",
       "  <thead>\n",
       "    <tr style=\"text-align: right;\">\n",
       "      <th></th>\n",
       "      <th>registration_num</th>\n",
       "      <th>address1</th>\n",
       "      <th>address2</th>\n",
       "      <th>registrant_name</th>\n",
       "      <th>generated_date</th>\n",
       "      <th>platforms_listed</th>\n",
       "      <th>registration_date</th>\n",
       "      <th>city</th>\n",
       "    </tr>\n",
       "  </thead>\n",
       "  <tbody>\n",
       "    <tr>\n",
       "      <th>3756</th>\n",
       "      <td>HSR19-004463</td>\n",
       "      <td>2304 w paseo del mar, san pedro, ca 90732 aka ...</td>\n",
       "      <td>NaN</td>\n",
       "      <td>SABRINA MEYN</td>\n",
       "      <td>12-12-19</td>\n",
       "      <td>['AIRBNB', 'VRBO']</td>\n",
       "      <td>NaN</td>\n",
       "      <td>san pedr</td>\n",
       "    </tr>\n",
       "  </tbody>\n",
       "</table>\n",
       "</div>"
      ],
      "text/plain": [
       "     registration_num                                           address1  \\\n",
       "3756     HSR19-004463  2304 w paseo del mar, san pedro, ca 90732 aka ...   \n",
       "\n",
       "     address2 registrant_name generated_date    platforms_listed  \\\n",
       "3756      NaN    SABRINA MEYN       12-12-19  ['AIRBNB', 'VRBO']   \n",
       "\n",
       "     registration_date      city  \n",
       "3756               NaN  san pedr  "
      ]
     },
     "execution_count": 631,
     "metadata": {},
     "output_type": "execute_result"
    }
   ],
   "source": [
    "# clean up registration numbers that are grouped and mistakenly input as different rows (e.g., 'HSR19-003524')\n",
    "# Leave nulls alone (e.g., HSR20-002175)\n",
    "# two addresses to same place: (e.g., HSR19-004463); two address entries for the same registrant ID number); maybe explain it if its the only one; if there are multiple ones, can explain mukltiple addresses can exist for one registrant number\n",
    "# remove mailing address\n",
    "# next week we can give Jon an update on progress\n",
    "\n",
    "\n",
    "cityla_df.loc[cityla_df['city'] == 'san pedr']\n",
    "\n",
    "# fact table\n",
    "\n",
    "\n"
   ]
  },
  {
   "cell_type": "code",
   "execution_count": 588,
   "metadata": {},
   "outputs": [
    {
     "data": {
      "text/html": [
       "<div>\n",
       "<style scoped>\n",
       "    .dataframe tbody tr th:only-of-type {\n",
       "        vertical-align: middle;\n",
       "    }\n",
       "\n",
       "    .dataframe tbody tr th {\n",
       "        vertical-align: top;\n",
       "    }\n",
       "\n",
       "    .dataframe thead th {\n",
       "        text-align: right;\n",
       "    }\n",
       "</style>\n",
       "<table border=\"1\" class=\"dataframe\">\n",
       "  <thead>\n",
       "    <tr style=\"text-align: right;\">\n",
       "      <th></th>\n",
       "      <th>unique_values</th>\n",
       "      <th>counts</th>\n",
       "    </tr>\n",
       "  </thead>\n",
       "  <tbody>\n",
       "    <tr>\n",
       "      <th>50</th>\n",
       "      <td>1506 n mccollum place unit a los angeles</td>\n",
       "      <td>1</td>\n",
       "    </tr>\n",
       "    <tr>\n",
       "      <th>51</th>\n",
       "      <td>1118 valencia street  angeles</td>\n",
       "      <td>1</td>\n",
       "    </tr>\n",
       "    <tr>\n",
       "      <th>52</th>\n",
       "      <td>san fernando</td>\n",
       "      <td>1</td>\n",
       "    </tr>\n",
       "    <tr>\n",
       "      <th>53</th>\n",
       "      <td>#50</td>\n",
       "      <td>1</td>\n",
       "    </tr>\n",
       "    <tr>\n",
       "      <th>54</th>\n",
       "      <td>shadow hills (sunland)</td>\n",
       "      <td>1</td>\n",
       "    </tr>\n",
       "    <tr>\n",
       "      <th>55</th>\n",
       "      <td>simi valley</td>\n",
       "      <td>1</td>\n",
       "    </tr>\n",
       "    <tr>\n",
       "      <th>56</th>\n",
       "      <td>san pedr</td>\n",
       "      <td>1</td>\n",
       "    </tr>\n",
       "    <tr>\n",
       "      <th>57</th>\n",
       "      <td>unit 508 los angeles</td>\n",
       "      <td>1</td>\n",
       "    </tr>\n",
       "    <tr>\n",
       "      <th>58</th>\n",
       "      <td>los1118 valencia street  angeles</td>\n",
       "      <td>1</td>\n",
       "    </tr>\n",
       "    <tr>\n",
       "      <th>59</th>\n",
       "      <td>4712 west maplewood ave los angeles</td>\n",
       "      <td>1</td>\n",
       "    </tr>\n",
       "    <tr>\n",
       "      <th>60</th>\n",
       "      <td>2763 1/2 w 12th st los angeles</td>\n",
       "      <td>1</td>\n",
       "    </tr>\n",
       "    <tr>\n",
       "      <th>61</th>\n",
       "      <td>zephyr cove</td>\n",
       "      <td>1</td>\n",
       "    </tr>\n",
       "    <tr>\n",
       "      <th>62</th>\n",
       "      <td>4710 west maplewood ave los angeles</td>\n",
       "      <td>1</td>\n",
       "    </tr>\n",
       "    <tr>\n",
       "      <th>63</th>\n",
       "      <td>porter ranch</td>\n",
       "      <td>1</td>\n",
       "    </tr>\n",
       "    <tr>\n",
       "      <th>64</th>\n",
       "      <td>ca 90045 mailing address 6890 arizona ave. los...</td>\n",
       "      <td>1</td>\n",
       "    </tr>\n",
       "    <tr>\n",
       "      <th>65</th>\n",
       "      <td>3247 ken</td>\n",
       "      <td>1</td>\n",
       "    </tr>\n",
       "  </tbody>\n",
       "</table>\n",
       "</div>"
      ],
      "text/plain": [
       "                                        unique_values  counts\n",
       "50           1506 n mccollum place unit a los angeles       1\n",
       "51                      1118 valencia street  angeles       1\n",
       "52                                       san fernando       1\n",
       "53                                                #50       1\n",
       "54                             shadow hills (sunland)       1\n",
       "55                                        simi valley       1\n",
       "56                                           san pedr       1\n",
       "57                               unit 508 los angeles       1\n",
       "58                   los1118 valencia street  angeles       1\n",
       "59                4712 west maplewood ave los angeles       1\n",
       "60                     2763 1/2 w 12th st los angeles       1\n",
       "61                                        zephyr cove       1\n",
       "62                4710 west maplewood ave los angeles       1\n",
       "63                                       porter ranch       1\n",
       "64  ca 90045 mailing address 6890 arizona ave. los...       1\n",
       "65                                           3247 ken       1"
      ]
     },
     "execution_count": 588,
     "metadata": {},
     "output_type": "execute_result"
    }
   ],
   "source": [
    "temp = cityla_df['city'].value_counts().rename_axis('unique_values').reset_index(name='counts')\n",
    "temp.loc[temp['counts'] == 1]\n"
   ]
  },
  {
   "cell_type": "code",
   "execution_count": 593,
   "metadata": {},
   "outputs": [
    {
     "data": {
      "text/html": [
       "<div>\n",
       "<style scoped>\n",
       "    .dataframe tbody tr th:only-of-type {\n",
       "        vertical-align: middle;\n",
       "    }\n",
       "\n",
       "    .dataframe tbody tr th {\n",
       "        vertical-align: top;\n",
       "    }\n",
       "\n",
       "    .dataframe thead th {\n",
       "        text-align: right;\n",
       "    }\n",
       "</style>\n",
       "<table border=\"1\" class=\"dataframe\">\n",
       "  <thead>\n",
       "    <tr style=\"text-align: right;\">\n",
       "      <th></th>\n",
       "      <th>registration_num</th>\n",
       "      <th>address1</th>\n",
       "      <th>address2</th>\n",
       "      <th>registrant_name</th>\n",
       "      <th>generated_date</th>\n",
       "      <th>platforms_listed</th>\n",
       "      <th>registration_date</th>\n",
       "      <th>city</th>\n",
       "    </tr>\n",
       "  </thead>\n",
       "  <tbody>\n",
       "  </tbody>\n",
       "</table>\n",
       "</div>"
      ],
      "text/plain": [
       "Empty DataFrame\n",
       "Columns: [registration_num, address1, address2, registrant_name, generated_date, platforms_listed, registration_date, city]\n",
       "Index: []"
      ]
     },
     "execution_count": 593,
     "metadata": {},
     "output_type": "execute_result"
    }
   ],
   "source": [
    "cityla_df.loc[cityla_df['city'] == '1118 valencia street angeles']\n"
   ]
  },
  {
   "cell_type": "code",
   "execution_count": 557,
   "metadata": {},
   "outputs": [
    {
     "data": {
      "text/html": [
       "<div>\n",
       "<style scoped>\n",
       "    .dataframe tbody tr th:only-of-type {\n",
       "        vertical-align: middle;\n",
       "    }\n",
       "\n",
       "    .dataframe tbody tr th {\n",
       "        vertical-align: top;\n",
       "    }\n",
       "\n",
       "    .dataframe thead th {\n",
       "        text-align: right;\n",
       "    }\n",
       "</style>\n",
       "<table border=\"1\" class=\"dataframe\">\n",
       "  <thead>\n",
       "    <tr style=\"text-align: right;\">\n",
       "      <th></th>\n",
       "      <th>registration_num</th>\n",
       "      <th>address1</th>\n",
       "      <th>address2</th>\n",
       "      <th>registrant_name</th>\n",
       "      <th>generated_date</th>\n",
       "      <th>platforms_listed</th>\n",
       "      <th>registration_date</th>\n",
       "      <th>city</th>\n",
       "    </tr>\n",
       "  </thead>\n",
       "  <tbody>\n",
       "    <tr>\n",
       "      <th>5762</th>\n",
       "      <td>HSR19-003524</td>\n",
       "      <td>1118 valencia street angeles, ca 90015</td>\n",
       "      <td>118</td>\n",
       "      <td>NICHOLAS ORTON</td>\n",
       "      <td>12-4-20,12-21-20</td>\n",
       "      <td>['AIRBNB']</td>\n",
       "      <td>2020-09-11</td>\n",
       "      <td>1118 valencia street angeles</td>\n",
       "    </tr>\n",
       "  </tbody>\n",
       "</table>\n",
       "</div>"
      ],
      "text/plain": [
       "     registration_num                                address1 address2  \\\n",
       "5762     HSR19-003524  1118 valencia street angeles, ca 90015      118   \n",
       "\n",
       "     registrant_name    generated_date platforms_listed registration_date  \\\n",
       "5762  NICHOLAS ORTON  12-4-20,12-21-20       ['AIRBNB']        2020-09-11   \n",
       "\n",
       "                              city  \n",
       "5762  1118 valencia street angeles  "
      ]
     },
     "execution_count": 557,
     "metadata": {},
     "output_type": "execute_result"
    }
   ],
   "source": [
    "cityla_df.loc[cityla_df['address1'] == '1118 valencia street angeles, ca 90015']\n"
   ]
  },
  {
   "cell_type": "code",
   "execution_count": 383,
   "metadata": {},
   "outputs": [],
   "source": []
  },
  {
   "cell_type": "code",
   "execution_count": 384,
   "metadata": {},
   "outputs": [],
   "source": []
  },
  {
   "cell_type": "code",
   "execution_count": 385,
   "metadata": {},
   "outputs": [],
   "source": []
  },
  {
   "cell_type": "code",
   "execution_count": 386,
   "metadata": {},
   "outputs": [],
   "source": []
  },
  {
   "cell_type": "code",
   "execution_count": null,
   "metadata": {},
   "outputs": [],
   "source": []
  },
  {
   "cell_type": "code",
   "execution_count": null,
   "metadata": {},
   "outputs": [],
   "source": []
  },
  {
   "cell_type": "code",
   "execution_count": null,
   "metadata": {},
   "outputs": [],
   "source": []
  },
  {
   "cell_type": "code",
   "execution_count": 478,
   "metadata": {},
   "outputs": [],
   "source": [
    "# fix these addresses manually\n",
    "address_dict = {\n",
    "    '1118 valencia street angeles, ca 90015, usa': '1118 valencia street, los angeles, ca 90015, usa',\n",
    "    '1118 valencia street angeles, ca 90015': '1118 valencia street, los angeles, ca 90015, usa'\n",
    "    'los1118 valencia street angeles, ca 90015, usa': '1118 valencia street, los angeles, ca 90015, usa',\n",
    "    '14333 van nuys blvd.  ca 91331, usa': '14333 van nuys blvd, arleta, ca 91331, usa',\n",
    "    '2765 1/2 west 12th street':'2765 w 12th St, los angeles, ca 90006, usa',\n",
    "    '10834 hortense st, #1 north hollywood, ca 91602, usa':'10834 hortense st #1, north hollywood, ca 91602, usa',\n",
    "                \n",
    "                'w magnolia blvd, sherman oaks, ca, usa':'13260 w magnolia blvd, sherman oaks, ca 91411, usa',\n",
    "                '13260 w magnolia blvd, sherman oaks, ca, usa':'13260 w magnolia blvd, sherman oaks, ca 91423, usa',\n",
    "                \n",
    "                '14333 van nuys blvd. ca 91331, usa':'14333 van nuys blvd, arleta, ca 91331, usa',\n",
    "                '830 e kensington rd los angeles, ca 90026, usa':'830 e kensington rd, los angeles, ca 90026, usa',\n",
    "                'los1118 valencia street angeles, ca 90015, usa': '1118 valencia st, los angeles, ca 90015, usa',\n",
    "                '518 e 21st street los angeles, ca 90011, usa':'518 e 21st st, los angeles, ca 90011, usa',\n",
    "                '707 brooks ave venice, ca 90291, usa':'707 brooks ave, venice, ca 90291, usa',\n",
    "                '1255 federal ave, apt 103 los angeles, ca 90025, usa':'1255 federal ave apt 103, los angeles, ca 90025, usa',\n",
    "                '344 indiana ave, #b venice, ca 90291, usa':'344 indiana ave #b, venice, ca 90291, usa',\n",
    "                '1506 n mccollum place unit a los angeles, ca 90026, usa':'1506 n mccollum place unit a, los angeles, ca 90026, usa',\n",
    "                '7641 tujunga ave north hollywood, ca 91605, usa': '7641 tujunga ave, north hollywood, ca 91605, usa',\n",
    "                '6828 van nuys blvd, n. sherman oaks, ca 91405, usa': '6828 van nuys blvd, sherman oaks, ca 91405, usa', \n",
    "                '2763 1/2 w 12th st los angeles, ca 90006, usa': '2763 1/2 w 12th st, los angeles, ca 90006, usa', \n",
    "                '1474 ridge way, los angeles b, ca 90026, usa': '1474 ridge way b, los angeles, ca 90026, usa', \n",
    "                '6650 leland way, unit c los angeles, ca 90028, usa': '6650 leland way unit c, los angeles, ca 90028, usa', \n",
    "                '4712 west maplewood ave los angeles, ca 90004, usa': '4712 west maplewood ave, los angeles, ca 90004, usa', \n",
    "                '732 huntley dr, 1 west hollywood, ca 90069, usa': '732 huntley dr 1, west hollywood, ca 90069, usa', \n",
    "                '2765 1/2 west 12th street, usa': '2765 1/2 west 12th st, los angeles, ca 90006, usa', \n",
    "                'los1118 valencia street angeles, ca 90015, usa': '1118 valencia st, los angeles, ca 90015, usa', \n",
    "                '4710 west maplewood ave los angeles, ca 90004, usa': '4710 west maplewood ave, los angeles, ca 90004, usa', \n",
    "                '14333 van nuys blvd. ca 91331, usa': '14333 van nuys blvd, arleta, ca 91331, usa', \n",
    "                '1710 n. fuller ave, ca 90046, usa': '1710 n fuller ave, los angeles, ca 90046, usa', \n",
    "                '14618 gilmore st, van nuys, 10, ca 91411, usa': '14618 gilmore st 10, van nuys, ca 91411, usa',\n",
    "                'los1118 valencia street angeles, ca 90015, usa': '1118 valencia street, los angeles, ca 90015, usa',\n",
    "                '1019 s catalina ct, unit 508 los angeles, ca 90006, usa': '1019 s catalina ct unit 508, los angeles, ca 90006, usa',\n",
    "                '1118 valencia street angeles, ca 90015': '1118 valencia street, los angeles, ca 90015'}\n",
    "\n",
    "# convert everything to lowercase temporarily\n",
    "cityla_df['city'] = cityla_df['city'].apply(lambda x: x.lower())\n",
    "\n",
    "# map revised city names\n",
    "cityla_df['city'] = cityla_df['city'].replace(city_dict)\n"
   ]
  },
  {
   "cell_type": "code",
   "execution_count": null,
   "metadata": {},
   "outputs": [],
   "source": []
  },
  {
   "cell_type": "markdown",
   "metadata": {},
   "source": [
    "# TROUBLESOME cities\n",
    "- 3247 kenneth drive\n",
    "- san pedr\n",
    "- 2765 1/2 West 12th street\n",
    "- HSR19-002358: 6711 S Sepulveda Blvd, Los Angeles, CA 90045, USA mailing address 6890 Arizona Ave. Los Angeles Ca 90045\n"
   ]
  },
  {
   "cell_type": "code",
   "execution_count": null,
   "metadata": {},
   "outputs": [],
   "source": []
  },
  {
   "cell_type": "code",
   "execution_count": null,
   "metadata": {},
   "outputs": [],
   "source": []
  },
  {
   "cell_type": "code",
   "execution_count": null,
   "metadata": {},
   "outputs": [],
   "source": [
    "# fix misspelled city names\n",
    "\n",
    "city_dict = {'los a':'los angeles', \n",
    "             '#1 north hollywood':'north hollywood', \n",
    "             'sunlandtujunga':'sunland-tujunga', \n",
    "             'sherma':'sherman oaks', \n",
    "             '14333 van nuys blvd':'arleta', \n",
    "             '830 e kensington rd los angeles': 'los angeles',\n",
    "             'los1118 valencia street angeles': 'los angeles', \n",
    "             '518 e 21st street los angeles':'los angeles', \n",
    "             '707 brooks ave venice':'venice', \n",
    "             'apt 103 los angeles': 'los angeles',\n",
    "             '#b venice': 'venice',\n",
    "             '1506 n mccollum place unit a los angeles':'los angeles',\n",
    "             '7641 tujunga ave north hollywood':'north hollywood', \n",
    "             'n. sherman oaks':'sherman oaks', \n",
    "             '2763 1/2 w 12th st los angeles':'los angeles', \n",
    "             'los angeles b':'los angeles',\n",
    "             'unit c los angeles':'los angeles', \n",
    "             '4712 west maplewood ave los angeles':'los angeles', \n",
    "             '1 west hollywood':'west hollywood', \n",
    "             '2765 1/2 west 1':'los angeles',\n",
    "             'los1118 valencia street  angeles':'los angeles', \n",
    "             '4710 west maplewood ave los angeles':'los angeles', \n",
    "             '14333 van nuys blvd.':'arleta', \n",
    "             '1710 n. fuller ave': 'los angeles',\n",
    "             '10': 'van nuys',\n",
    "             'san pedr': 'san pedro'}\n"
   ]
  },
  {
   "cell_type": "code",
   "execution_count": null,
   "metadata": {},
   "outputs": [],
   "source": []
  },
  {
   "cell_type": "code",
   "execution_count": 157,
   "metadata": {},
   "outputs": [],
   "source": []
  },
  {
   "cell_type": "code",
   "execution_count": null,
   "metadata": {},
   "outputs": [],
   "source": []
  },
  {
   "cell_type": "code",
   "execution_count": null,
   "metadata": {},
   "outputs": [],
   "source": []
  },
  {
   "cell_type": "code",
   "execution_count": null,
   "metadata": {},
   "outputs": [],
   "source": []
  },
  {
   "cell_type": "code",
   "execution_count": 147,
   "metadata": {},
   "outputs": [],
   "source": []
  },
  {
   "cell_type": "code",
   "execution_count": null,
   "metadata": {},
   "outputs": [],
   "source": []
  },
  {
   "cell_type": "code",
   "execution_count": null,
   "metadata": {},
   "outputs": [],
   "source": []
  },
  {
   "cell_type": "code",
   "execution_count": null,
   "metadata": {},
   "outputs": [],
   "source": []
  },
  {
   "cell_type": "code",
   "execution_count": 169,
   "metadata": {},
   "outputs": [],
   "source": []
  },
  {
   "cell_type": "markdown",
   "metadata": {},
   "source": [
    "# Checkpoint 3: fix up addresses and city entries"
   ]
  },
  {
   "cell_type": "markdown",
   "metadata": {},
   "source": [
    "# add ', usa' string back to registered address\n",
    "#cityla_df['address1'] = cityla_df['address1'] + ', USA'"
   ]
  },
  {
   "cell_type": "markdown",
   "metadata": {},
   "source": []
  },
  {
   "cell_type": "markdown",
   "metadata": {},
   "source": []
  },
  {
   "cell_type": "markdown",
   "metadata": {},
   "source": []
  },
  {
   "cell_type": "markdown",
   "metadata": {},
   "source": []
  },
  {
   "cell_type": "markdown",
   "metadata": {},
   "source": []
  },
  {
   "cell_type": "markdown",
   "metadata": {},
   "source": []
  },
  {
   "cell_type": "markdown",
   "metadata": {},
   "source": [
    "# split string by delimeter (,)\n",
    "cityla_df['holder_name_list'] = cityla_df['Permit Holder Name 1 '].str.split(' ')\n",
    "\n",
    "# select first name\n",
    "cityla_df.loc[:, 'first_name'] = cityla_df['holder_name_list'].map(lambda x: x[0])\n",
    "\n",
    "# remove unnecessary characters in first names\n",
    "cityla_df['first_name'] = cityla_df['first_name'].str.replace('[^a-zA-Z]', '')\n"
   ]
  },
  {
   "cell_type": "markdown",
   "metadata": {},
   "source": [
    "cityla_df['city'] = cityla_df['city'].str.strip()\n"
   ]
  },
  {
   "cell_type": "markdown",
   "metadata": {},
   "source": []
  },
  {
   "cell_type": "markdown",
   "metadata": {},
   "source": []
  },
  {
   "cell_type": "markdown",
   "metadata": {
    "scrolled": false
   },
   "source": []
  },
  {
   "cell_type": "markdown",
   "metadata": {},
   "source": [
    "# fix misspelled city names\n",
    "city_dict = {'los a':'los angeles', \n",
    "             '#1 north hollywood':'north hollywood', \n",
    "             'sunlandtujunga':'sunland-tujunga', \n",
    "             'sherma':'sherman oaks', \n",
    "             '14333 van nuys blvd':'arleta', \n",
    "             '830 e kensington rd los angeles': 'los angeles',\n",
    "             'los1118 valencia street angeles': 'los angeles', \n",
    "             '518 e 21st street los angeles':'los angeles', \n",
    "             '707 brooks ave venice':'venice', \n",
    "             'apt 103 los angeles': 'los angeles',\n",
    "             '#b venice': 'venice',\n",
    "             '1506 n mccollum place unit a los angeles':'los angeles',\n",
    "             '7641 tujunga ave north hollywood':'north hollywood', \n",
    "             'n. sherman oaks':'sherman oaks', \n",
    "             '2763 1/2 w 12th st los angeles':'los angeles', \n",
    "             'los angeles b':'los angeles',\n",
    "             'unit c los angeles':'los angeles', \n",
    "             '4712 west maplewood ave los angeles':'los angeles', \n",
    "             '1 west hollywood':'west hollywood', \n",
    "             '2765 1/2 west 1':'los angeles',\n",
    "             'los1118 valencia street  angeles':'los angeles', \n",
    "             '4710 west maplewood ave los angeles':'los angeles', \n",
    "             '14333 van nuys blvd.':'arleta', \n",
    "             '1710 n. fuller ave': 'los angeles',\n",
    "             '10': 'van nuys'}\n",
    "\n",
    "\n",
    "# fix these addresses manually\n",
    "address_dict = {'10834 hortense st, #1 north hollywood, ca 91602, usa':'10834 hortense st, north hollywood, ca 91602, usa',\n",
    "                \n",
    "                'w magnolia blvd, sherman oaks, ca, usa':'13260 w magnolia blvd, sherman oaks, ca 91411, usa',\n",
    "                '13260 w magnolia blvd, sherman oaks, ca, usa':'13260 w magnolia blvd, sherman oaks, ca 91423, usa',\n",
    "                \n",
    "                '14333 van nuys blvd. ca 91331, usa':'14333 van nuys blvd, arleta, ca 91331, usa',\n",
    "                '830 e kensington rd los angeles, ca 90026, usa':'830 e kensington rd, los angeles, ca 90026, usa',\n",
    "                'los1118 valencia street angeles, ca 90015, usa': '1118 valencia st, los angeles, ca 90015, usa',\n",
    "                '518 e 21st street los angeles, ca 90011, usa':'518 e 21st st, los angeles, ca 90011, usa',\n",
    "                '707 brooks ave venice, ca 90291, usa':'707 brooks ave, venice, ca 90291, usa',\n",
    "                '1255 federal ave, apt 103 los angeles, ca 90025, usa':'1255 federal ave, los angeles, ca 90025, usa',\n",
    "                '344 indiana ave, #b venice, ca 90291, usa':'344 indiana ave, venice, ca 90291, usa',\n",
    "                '1506 n mccollum place unit a los angeles, ca 90026, usa':'1506 n mccollum place, los angeles, ca 90026, usa',\n",
    "                '7641 tujunga ave north hollywood, ca 91605, usa': '7641 tujunga ave, north hollywood, ca 91605, usa',\n",
    "                '6828 van nuys blvd, n. sherman oaks, ca 91405, usa': '6828 van nuys blvd, sherman oaks, ca 91405, usa', \n",
    "                '2763 1/2 w 12th st los angeles, ca 90006, usa': '2763 1/2 w 12th st, los angeles, ca 90006, usa', \n",
    "                '1474 ridge way, los angeles b, ca 90026, usa': '1474 ridge way, los angeles, ca 90026, usa', \n",
    "                '6650 leland way, unit c los angeles, ca 90028, usa': '6650 leland way, los angeles, ca 90028, usa', \n",
    "                '4712 west maplewood ave los angeles, ca 90004, usa': '4712 west maplewood ave, los angeles, ca 90004, usa', \n",
    "                '732 huntley dr, 1 west hollywood, ca 90069, usa': '732 huntley dr, west hollywood, ca 90069, usa', \n",
    "                '2765 1/2 west 12th street, usa': '2765 1/2 west 12th st, los angeles, ca 90006, usa', \n",
    "                'los1118 valencia street angeles, ca 90015, usa': '1118 valencia st, los angeles, ca 90015, usa', \n",
    "                '4710 west maplewood ave los angeles, ca 90004, usa': '4710 west maplewood ave, los angeles, ca 90004, usa', \n",
    "                '14333 van nuys blvd. ca 91331, usa': '14333 van nuys blvd, arleta, ca 91331, usa', \n",
    "                '1710 n. fuller ave, ca 90046, usa': '1710 n fuller ave, los angeles, ca 90046, usa', \n",
    "                '14618 gilmore st, van nuys, 10, ca 91411, usa': '14618 gilmore st, van nuys, ca 91411, usa'}\n",
    "\n",
    "\n",
    "\n",
    "\n",
    "# uni, ca, zephyr cove??, 10 san fernando"
   ]
  },
  {
   "cell_type": "markdown",
   "metadata": {},
   "source": [
    "# map revised addresses\n",
    "cityla_df['Registered Adddress'] = cityla_df['Registered Adddress'].replace(address_dict)\n",
    "\n",
    "# map revised city names\n",
    "cityla_df['city'] = cityla_df['city'].replace(city_dict)\n"
   ]
  },
  {
   "cell_type": "markdown",
   "metadata": {},
   "source": [
    "cityla_df.head()"
   ]
  },
  {
   "cell_type": "markdown",
   "metadata": {},
   "source": [
    "cityla_df['city'].value_counts()"
   ]
  },
  {
   "cell_type": "markdown",
   "metadata": {},
   "source": [
    "# remove rows with empty values\n",
    "#cityla_df.loc[cityla_df['city'] == '']\n"
   ]
  },
  {
   "cell_type": "markdown",
   "metadata": {},
   "source": [
    "# why is there nevada listings registered?\n",
    "cityla_df.loc[cityla_df['city'] == 'zephyr cove']"
   ]
  },
  {
   "cell_type": "markdown",
   "metadata": {},
   "source": [
    "# replace values with Nan\n",
    "cityla_df['Registered Adddress'] = cityla_df['Registered Adddress'].replace('', np.nan)"
   ]
  },
  {
   "cell_type": "markdown",
   "metadata": {},
   "source": [
    "# drop rows with nan in registered address\n",
    "cityla_df = cityla_df.dropna(subset = ['Registered Adddress'])\n",
    "          "
   ]
  },
  {
   "cell_type": "markdown",
   "metadata": {
    "scrolled": true
   },
   "source": [
    "cityla_df.head()"
   ]
  },
  {
   "cell_type": "markdown",
   "metadata": {},
   "source": [
    "cityla_df.shape"
   ]
  },
  {
   "cell_type": "markdown",
   "metadata": {},
   "source": [
    "#os.chdir(BASE_DIR + 'data/intermediate/')\n",
    "#cityla_df.to_csv('cityla_merged_v3.csv', index = False)\n"
   ]
  },
  {
   "cell_type": "markdown",
   "metadata": {},
   "source": [
    "# SCRATCHPAD: old code that Karina was using to clean up the registrant dataset"
   ]
  },
  {
   "cell_type": "markdown",
   "metadata": {},
   "source": [
    "[Github coordinates tutorial](https://github.com/code-and-dogs/seleniumBsFolium/blob/master/getGeo.py)\n",
    "\n",
    "[Youtube video link](https://www.youtube.com/watch?v=tKy-IHAxt4s)\n"
   ]
  },
  {
   "cell_type": "markdown",
   "metadata": {},
   "source": [
    "# Merge city of LA registerant datasets\n",
    "\n",
    "os.chdir(BASE_DIR + 'data/raw/cityla/')\n",
    "\n",
    "xls = pd.ExcelFile('HSO Registrants over time2.xlsx')\n",
    "#df1 = pd.read_excel(xls, 'Sheet1')\n",
    "#df2 = pd.read_excel(xls, 'Sheet2')\n",
    "\n",
    "#cityla_df = pd.read_excel('HSO Registrants over time2.xlsx', sheet_name = None)\n",
    "\n",
    "\n",
    "cityla_df1 = pd.read_excel(xls, '12-12-19')\n",
    "cityla_df2 = pd.read_excel(xls, '1-16-20')\n",
    "cityla_df3 = pd.read_excel(xls, '2-7-20')\n",
    "cityla_df4 = pd.read_excel(xls, '3-13-20')\n",
    "cityla_df5 = pd.read_excel(xls, '4-14-20')\n",
    "cityla_df6 = pd.read_excel(xls, '5-27-20')\n",
    "cityla_df7 = pd.read_excel(xls, '7-9-20')\n",
    "\n",
    "\n",
    "cityla_df = pd.merge(cityla_df1, cityla_df2, how = 'outer')\n",
    "cityla_df = pd.merge(cityla_df, cityla_df3, how = 'outer')\n",
    "cityla_df = pd.merge(cityla_df, cityla_df4, how = 'outer')\n",
    "cityla_df = pd.merge(cityla_df, cityla_df5, how = 'outer')\n",
    "cityla_df = pd.merge(cityla_df, cityla_df6, how = 'outer')\n",
    "cityla_df = pd.merge(cityla_df, cityla_df7, how = 'outer')\n",
    "\n",
    "print(cityla_df1.shape)\n",
    "print(cityla_df2.shape)\n",
    "print(cityla_df3.shape)\n",
    "print(cityla_df4.shape)\n",
    "print(cityla_df5.shape)\n",
    "print(cityla_df6.shape)\n",
    "print(cityla_df7.shape)\n",
    "\n",
    "cityla_df.shape\n",
    "\n",
    "cityla_df.head()\n",
    "\n",
    "#os.chdir(BASE_DIR + 'data/intermediate/')\n",
    "#cityla_df.to_csv('cityla_merged_v1.csv', index = False)\n",
    "\n",
    "# Checkpoint 1: Merge LA city dataset with Airbnb registered listings\n",
    "\n",
    "os.chdir(BASE_DIR + 'data/intermediate/')\n",
    "cityla_df = pd.read_csv('cityla_merged_v1.csv')\n",
    "\n",
    "# convert everything to lowercase\n",
    "cityla_df = cityla_df.apply(lambda x: x.astype(str).str.lower())\n",
    "\n",
    "\n",
    "# check for NAs in the Platforms Reported at Application column\n",
    "cityla_df['Platforms Reported at Application'].isnull().values.any()\n",
    "\n",
    "\n",
    "# check for NAs in the Registered Adddress column\n",
    "cityla_df['Registered Adddress'].isnull().values.any()\n",
    "\n",
    "\n",
    "\n",
    "# only keep registerants that match this list exactly\n",
    "remove_list = ['-', 'a']\n",
    "mask1 = cityla_df[cityla_df['Platforms Reported at Application'].isin(remove_list)]\n",
    "\n",
    "\n",
    "mask1['Platforms Reported at Application'].value_counts()\n",
    "\n",
    "# now keep if any strings CONTAIN airbnb\n",
    "keep = ['airbnb']\n",
    "mask2 = cityla_df[cityla_df['Platforms Reported at Application'].str.contains('|'.join(keep))]\n",
    "\n",
    "\n",
    "# now merge them together\n",
    "cityla_df = pd.concat([mask1, mask2])\n",
    "\n",
    "cityla_df.shape\n",
    "\n",
    "cityla_df['Registered Adddress'] = cityla_df['Registered Adddress'].str.replace('\\t','')\n",
    "cityla_df['Registered Adddress'] = cityla_df['Registered Adddress'].str.replace('-','')\n",
    "\n",
    "\n",
    "# remove unnecessary characters\n",
    "cityla_df['Registered Adddress'] = cityla_df['Registered Adddress'].apply(lambda x: x.split(', usa')[0])\n",
    "\n",
    "\n",
    "cityla_df.head(n = 3)\n",
    "\n",
    "cityla_df.columns\n",
    "\n",
    "# some permit holders have more than one registeration numbers\n",
    "grouped_cityla_df = cityla_df.groupby(['Registered Adddress', 'Permit Holder Name 1 '])['Registration Number'].nunique()\n",
    "\n",
    "\n",
    "cityla_df['Registered Unit Number'] = cityla_df['Registered Unit Number'].replace('-', np.nan)\n",
    "\n",
    "cityla_df['Platforms Reported at Application'] = cityla_df['Platforms Reported at Application'].replace('-', np.nan)\n",
    "cityla_df['Platforms Reported at Application'] = cityla_df['Platforms Reported at Application'].replace('a', np.nan)\n",
    "\n",
    "\n",
    "cityla_df['Registered Unit Number'].val\n",
    "\n",
    "# create new csv\n",
    "#os.chdir(BASE_DIR + 'data/intermediate/')\n",
    "#cityla_df.to_csv('cityla_merged_v2.csv', index = False)\n",
    "\n",
    "\n",
    "# Checkpoint 2: fix up addresses and city entries\n",
    "\n",
    "os.chdir(BASE_DIR + 'data/intermediate/')\n",
    "cityla_df = pd.read_csv('cityla_merged_v2.csv')\n",
    "\n",
    "\n",
    "cityla_df.head()\n",
    "\n",
    "\n",
    "# remove white space at the beginning and end of a string\n",
    "cityla_df['Registered Adddress'] = cityla_df['Registered Adddress'].str.strip()\n",
    "cityla_df['Permit Holder Name 1 '] = cityla_df['Permit Holder Name 1 '].str.strip()\n",
    "\n",
    "\n",
    "# ADD HERE\n",
    "\n",
    "remove_address_char = [', united states', ' usa', ', us', ' usa']\n",
    "cityla_df['Registered Adddress'] = cityla_df['Registered Adddress'].str.replace('|'.join(remove_address_char), '')\n",
    "\n",
    "\n",
    "\n",
    "\n",
    "\n",
    "# remove last 10 characters\n",
    "cityla_df['city'] = cityla_df['Registered Adddress'].map(lambda x: str(x)[:-10])\n",
    "\n",
    "# split string by delimeter (,)\n",
    "cityla_df['city'] = cityla_df['city'].str.split(',')\n",
    "\n",
    "# create city and street address columns\n",
    "cityla_df.loc[:, 'city'] = cityla_df['city'].map(lambda x: x[-1])\n",
    "\n",
    "\n",
    "# add ', usa' string back to registered address\n",
    "cityla_df['Registered Adddress'] = cityla_df['Registered Adddress'] + ', usa'\n",
    "\n",
    "\n",
    "cityla_df.head()\n",
    "\n",
    "# split string by delimeter (,)\n",
    "cityla_df['holder_name_list'] = cityla_df['Permit Holder Name 1 '].str.split(' ')\n",
    "\n",
    "\n",
    "\n",
    "# select first name\n",
    "cityla_df.loc[:, 'first_name'] = cityla_df['holder_name_list'].map(lambda x: x[0])\n",
    "\n",
    "\n",
    "# remove unnecessary characters in first names\n",
    "cityla_df['first_name'] = cityla_df['first_name'].str.replace('[^a-zA-Z]', '')\n",
    "\n",
    "\n",
    "cityla_df.head(n = 3)\n",
    "\n",
    "cityla_df['city'] = cityla_df['city'].str.strip()\n",
    "\n",
    "\n",
    "# fix misspelled city names\n",
    "city_dict = {'los a':'los angeles', \n",
    "             '#1 north hollywood':'north hollywood', \n",
    "             'sunlandtujunga':'sunland-tujunga', \n",
    "             'sherma':'sherman oaks', \n",
    "             '14333 van nuys blvd':'arleta', \n",
    "             '830 e kensington rd los angeles': 'los angeles',\n",
    "             'los1118 valencia street angeles': 'los angeles', \n",
    "             '518 e 21st street los angeles':'los angeles', \n",
    "             '707 brooks ave venice':'venice', \n",
    "             'apt 103 los angeles': 'los angeles',\n",
    "             '#b venice': 'venice',\n",
    "             '1506 n mccollum place unit a los angeles':'los angeles',\n",
    "             '7641 tujunga ave north hollywood':'north hollywood', \n",
    "             'n. sherman oaks':'sherman oaks', \n",
    "             '2763 1/2 w 12th st los angeles':'los angeles', \n",
    "             'los angeles b':'los angeles',\n",
    "             'unit c los angeles':'los angeles', \n",
    "             '4712 west maplewood ave los angeles':'los angeles', \n",
    "             '1 west hollywood':'west hollywood', \n",
    "             '2765 1/2 west 1':'los angeles',\n",
    "             'los1118 valencia street  angeles':'los angeles', \n",
    "             '4710 west maplewood ave los angeles':'los angeles', \n",
    "             '14333 van nuys blvd.':'arleta', \n",
    "             '1710 n. fuller ave': 'los angeles',\n",
    "             '10': 'van nuys'}\n",
    "\n",
    "\n",
    "# fix these addresses manually\n",
    "address_dict = {'10834 hortense st, #1 north hollywood, ca 91602, usa':'10834 hortense st, north hollywood, ca 91602, usa',\n",
    "                \n",
    "                'w magnolia blvd, sherman oaks, ca, usa':'13260 w magnolia blvd, sherman oaks, ca 91411, usa',\n",
    "                '13260 w magnolia blvd, sherman oaks, ca, usa':'13260 w magnolia blvd, sherman oaks, ca 91423, usa',\n",
    "                \n",
    "                '14333 van nuys blvd. ca 91331, usa':'14333 van nuys blvd, arleta, ca 91331, usa',\n",
    "                '830 e kensington rd los angeles, ca 90026, usa':'830 e kensington rd, los angeles, ca 90026, usa',\n",
    "                'los1118 valencia street angeles, ca 90015, usa': '1118 valencia st, los angeles, ca 90015, usa',\n",
    "                '518 e 21st street los angeles, ca 90011, usa':'518 e 21st st, los angeles, ca 90011, usa',\n",
    "                '707 brooks ave venice, ca 90291, usa':'707 brooks ave, venice, ca 90291, usa',\n",
    "                '1255 federal ave, apt 103 los angeles, ca 90025, usa':'1255 federal ave, los angeles, ca 90025, usa',\n",
    "                '344 indiana ave, #b venice, ca 90291, usa':'344 indiana ave, venice, ca 90291, usa',\n",
    "                '1506 n mccollum place unit a los angeles, ca 90026, usa':'1506 n mccollum place, los angeles, ca 90026, usa',\n",
    "                '7641 tujunga ave north hollywood, ca 91605, usa': '7641 tujunga ave, north hollywood, ca 91605, usa',\n",
    "                '6828 van nuys blvd, n. sherman oaks, ca 91405, usa': '6828 van nuys blvd, sherman oaks, ca 91405, usa', \n",
    "                '2763 1/2 w 12th st los angeles, ca 90006, usa': '2763 1/2 w 12th st, los angeles, ca 90006, usa', \n",
    "                '1474 ridge way, los angeles b, ca 90026, usa': '1474 ridge way, los angeles, ca 90026, usa', \n",
    "                '6650 leland way, unit c los angeles, ca 90028, usa': '6650 leland way, los angeles, ca 90028, usa', \n",
    "                '4712 west maplewood ave los angeles, ca 90004, usa': '4712 west maplewood ave, los angeles, ca 90004, usa', \n",
    "                '732 huntley dr, 1 west hollywood, ca 90069, usa': '732 huntley dr, west hollywood, ca 90069, usa', \n",
    "                '2765 1/2 west 12th street, usa': '2765 1/2 west 12th st, los angeles, ca 90006, usa', \n",
    "                'los1118 valencia street angeles, ca 90015, usa': '1118 valencia st, los angeles, ca 90015, usa', \n",
    "                '4710 west maplewood ave los angeles, ca 90004, usa': '4710 west maplewood ave, los angeles, ca 90004, usa', \n",
    "                '14333 van nuys blvd. ca 91331, usa': '14333 van nuys blvd, arleta, ca 91331, usa', \n",
    "                '1710 n. fuller ave, ca 90046, usa': '1710 n fuller ave, los angeles, ca 90046, usa', \n",
    "                '14618 gilmore st, van nuys, 10, ca 91411, usa': '14618 gilmore st, van nuys, ca 91411, usa'}\n",
    "\n",
    "\n",
    "\n",
    "\n",
    "# uni, ca, zephyr cove??, 10 san fernando\n",
    "\n",
    "# map revised addresses\n",
    "cityla_df['Registered Adddress'] = cityla_df['Registered Adddress'].replace(address_dict)\n",
    "\n",
    "# map revised city names\n",
    "cityla_df['city'] = cityla_df['city'].replace(city_dict)\n",
    "\n",
    "\n",
    "cityla_df.head()\n",
    "\n",
    "cityla_df['city'].value_counts()\n",
    "\n",
    "# remove rows with empty values\n",
    "#cityla_df.loc[cityla_df['city'] == '']\n",
    "\n",
    "\n",
    "# why is there nevada listings registered?\n",
    "cityla_df.loc[cityla_df['city'] == 'zephyr cove']\n",
    "\n",
    "# replace values with Nan\n",
    "cityla_df['Registered Adddress'] = cityla_df['Registered Adddress'].replace('', np.nan)\n",
    "\n",
    "# drop rows with nan in registered address\n",
    "cityla_df = cityla_df.dropna(subset = ['Registered Adddress'])\n",
    "          \n",
    "\n",
    "cityla_df.head()\n",
    "\n",
    "cityla_df.shape\n",
    "\n",
    "#os.chdir(BASE_DIR + 'data/intermediate/')\n",
    "#cityla_df.to_csv('cityla_merged_v3.csv', index = False)\n",
    "\n",
    "\n",
    "# Checkpoint 3: Begin creating coordinates\n",
    "\n",
    "[Github coordinates tutorial](https://github.com/code-and-dogs/seleniumBsFolium/blob/master/getGeo.py)\n",
    "\n",
    "[Youtube video link](https://www.youtube.com/watch?v=tKy-IHAxt4s)\n"
   ]
  },
  {
   "cell_type": "code",
   "execution_count": null,
   "metadata": {},
   "outputs": [],
   "source": []
  }
 ],
 "metadata": {
  "kernelspec": {
   "display_name": "Python 3",
   "language": "python",
   "name": "python3"
  },
  "language_info": {
   "codemirror_mode": {
    "name": "ipython",
    "version": 3
   },
   "file_extension": ".py",
   "mimetype": "text/x-python",
   "name": "python",
   "nbconvert_exporter": "python",
   "pygments_lexer": "ipython3",
   "version": "3.8.5"
  }
 },
 "nbformat": 4,
 "nbformat_minor": 4
}
